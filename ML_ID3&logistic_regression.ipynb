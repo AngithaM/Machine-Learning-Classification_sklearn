{
 "cells": [
  {
   "cell_type": "code",
   "execution_count": 1,
   "id": "10133725-099c-489b-9205-a819bb9eace7",
   "metadata": {},
   "outputs": [],
   "source": [
    "%config Completer.use_jedi = False"
   ]
  },
  {
   "cell_type": "code",
   "execution_count": 2,
   "id": "4969429b-5226-4b47-99c1-80696c895e87",
   "metadata": {},
   "outputs": [],
   "source": [
    "import numpy as np\n",
    "import pandas as pd\n",
    "import seaborn as sns\n",
    "import matplotlib.pyplot as plt"
   ]
  },
  {
   "cell_type": "code",
   "execution_count": 3,
   "id": "f0135567-ffb8-4752-98e1-574c9e123500",
   "metadata": {},
   "outputs": [],
   "source": [
    "import warnings\n",
    "warnings.filterwarnings('ignore')"
   ]
  },
  {
   "cell_type": "code",
   "execution_count": 4,
   "id": "93d90b39-7d69-4d02-b646-4eac4b19614d",
   "metadata": {},
   "outputs": [],
   "source": [
    "with open('wildfires_training.txt') as f:\n",
    "    training_data = f.readlines()"
   ]
  },
  {
   "cell_type": "code",
   "execution_count": 5,
   "id": "18599bbd-5be2-4929-a3c8-317f53030afc",
   "metadata": {},
   "outputs": [],
   "source": [
    "with open('wildfires_test.txt') as f:\n",
    "    testing_data = f.readlines()"
   ]
  },
  {
   "cell_type": "code",
   "execution_count": 6,
   "id": "cc510ce5-ff88-40cc-875a-afce2e751b7a",
   "metadata": {},
   "outputs": [
    {
     "data": {
      "text/plain": [
       "['no   \\t2015\\t28\\t59\\t0\\t8.06\\t3.47\\t01\\t06\\t19\\n',\n",
       " 'no   \\t2010\\t30\\t61\\t1.3\\t8.17\\t4.03\\t02\\t06\\t13\\n',\n",
       " 'no   \\t2009\\t26\\t83\\t13.1\\t8.08\\t3.59\\t03\\t06\\t22\\n',\n",
       " 'no   \\t2017\\t25\\t87\\t2.5\\t7.18\\t2.42\\t04\\t06\\t15\\n',\n",
       " 'no   \\t2014\\t28\\t77\\t0\\t14.98\\t4.63\\t05\\t06\\t18\\n',\n",
       " 'yes   \\t2008\\t30\\t67\\t0\\t22.71\\t7.97\\t06\\t06\\t14\\n',\n",
       " 'yes   \\t2013\\t32\\t52\\t0\\t30.98\\t11.86\\t07\\t06\\t14\\n',\n",
       " 'yes   \\t2009\\t29\\t72\\t0\\t38.66\\t14.31\\t08\\t06\\t17\\n']"
      ]
     },
     "execution_count": 6,
     "metadata": {},
     "output_type": "execute_result"
    }
   ],
   "source": [
    "training_data[:8]"
   ]
  },
  {
   "cell_type": "markdown",
   "id": "b2e35c39-8486-4960-a4b0-c8599d7903e2",
   "metadata": {},
   "source": [
    "# PREPROCESSING"
   ]
  },
  {
   "cell_type": "code",
   "execution_count": 7,
   "id": "5d43cb36-22fc-4ca4-b647-b851c5364391",
   "metadata": {},
   "outputs": [],
   "source": [
    "train_data = []\n",
    "for i in training_data:\n",
    "    train_data.append(i.split())"
   ]
  },
  {
   "cell_type": "code",
   "execution_count": 8,
   "id": "066328cb-3077-4f07-b012-a56709d8bd9e",
   "metadata": {},
   "outputs": [],
   "source": [
    "test_data= []\n",
    "for i in testing_data:\n",
    "    test_data.append(i.split())"
   ]
  },
  {
   "cell_type": "code",
   "execution_count": 9,
   "id": "895779fe-59e3-4bfa-a1ac-2ca0973c945f",
   "metadata": {},
   "outputs": [
    {
     "name": "stdout",
     "output_type": "stream",
     "text": [
      "[['no', '2015', '28', '59', '0', '8.06', '3.47', '01', '06', '19'], ['no', '2010', '30', '61', '1.3', '8.17', '4.03', '02', '06', '13'], ['no', '2009', '26', '83', '13.1', '8.08', '3.59', '03', '06', '22']]\n",
      "[['no', '2015', '33', '68', '4.5', '9.12', '5.09', '19', '06', '16'], ['yes', '2009', '28', '56', '0', '38.17', '21.21', '12', '06', '18'], ['no', '2017', '30', '64', '0.6', '15.38', '6.24', '24', '09', '19']]\n"
     ]
    }
   ],
   "source": [
    "print(train_data[:3])\n",
    "print(test_data[:3])"
   ]
  },
  {
   "cell_type": "code",
   "execution_count": 10,
   "id": "2ce4bf84-078a-4c1a-a575-f93514d39880",
   "metadata": {},
   "outputs": [
    {
     "data": {
      "text/plain": [
       "(154, 10)"
      ]
     },
     "execution_count": 10,
     "metadata": {},
     "output_type": "execute_result"
    }
   ],
   "source": [
    "np.array(train_data).shape"
   ]
  },
  {
   "cell_type": "code",
   "execution_count": 11,
   "id": "f7fb0dc0-7c5c-4381-9ac3-aea1c689510b",
   "metadata": {},
   "outputs": [
    {
     "data": {
      "text/plain": [
       "(50, 10)"
      ]
     },
     "execution_count": 11,
     "metadata": {},
     "output_type": "execute_result"
    }
   ],
   "source": [
    "np.array(test_data).shape"
   ]
  },
  {
   "cell_type": "code",
   "execution_count": 12,
   "id": "e7fde1cc-e155-4a9b-b17a-538192bd8280",
   "metadata": {},
   "outputs": [],
   "source": [
    "attributes = ['fire', 'year', 'temp', 'humidity', 'rainfall', 'drought_code', 'buildup_index', 'day', 'month', 'wind_speed']"
   ]
  },
  {
   "cell_type": "code",
   "execution_count": 13,
   "id": "09c3299f-d824-4c46-8d46-08f38236a09f",
   "metadata": {},
   "outputs": [
    {
     "data": {
      "text/plain": [
       "['fire',\n",
       " 'year',\n",
       " 'temp',\n",
       " 'humidity',\n",
       " 'rainfall',\n",
       " 'drought_code',\n",
       " 'buildup_index',\n",
       " 'day',\n",
       " 'month',\n",
       " 'wind_speed']"
      ]
     },
     "execution_count": 13,
     "metadata": {},
     "output_type": "execute_result"
    }
   ],
   "source": [
    "attributes"
   ]
  },
  {
   "cell_type": "code",
   "execution_count": 14,
   "id": "d76c1926-c1e9-43e7-bc64-cd63d5dc9c69",
   "metadata": {},
   "outputs": [],
   "source": [
    "train_set = pd.DataFrame(data = np.array(train_data), columns=attributes)\n",
    "test_set = pd.DataFrame(data = np.array(test_data), columns=attributes)"
   ]
  },
  {
   "cell_type": "code",
   "execution_count": 15,
   "id": "8cecf98a-d927-4455-aa4d-8ceebc1b715d",
   "metadata": {},
   "outputs": [
    {
     "data": {
      "text/html": [
       "<div>\n",
       "<style scoped>\n",
       "    .dataframe tbody tr th:only-of-type {\n",
       "        vertical-align: middle;\n",
       "    }\n",
       "\n",
       "    .dataframe tbody tr th {\n",
       "        vertical-align: top;\n",
       "    }\n",
       "\n",
       "    .dataframe thead th {\n",
       "        text-align: right;\n",
       "    }\n",
       "</style>\n",
       "<table border=\"1\" class=\"dataframe\">\n",
       "  <thead>\n",
       "    <tr style=\"text-align: right;\">\n",
       "      <th></th>\n",
       "      <th>fire</th>\n",
       "      <th>year</th>\n",
       "      <th>temp</th>\n",
       "      <th>humidity</th>\n",
       "      <th>rainfall</th>\n",
       "      <th>drought_code</th>\n",
       "      <th>buildup_index</th>\n",
       "      <th>day</th>\n",
       "      <th>month</th>\n",
       "      <th>wind_speed</th>\n",
       "    </tr>\n",
       "  </thead>\n",
       "  <tbody>\n",
       "    <tr>\n",
       "      <th>0</th>\n",
       "      <td>no</td>\n",
       "      <td>2015</td>\n",
       "      <td>28</td>\n",
       "      <td>59</td>\n",
       "      <td>0</td>\n",
       "      <td>8.06</td>\n",
       "      <td>3.47</td>\n",
       "      <td>01</td>\n",
       "      <td>06</td>\n",
       "      <td>19</td>\n",
       "    </tr>\n",
       "    <tr>\n",
       "      <th>1</th>\n",
       "      <td>no</td>\n",
       "      <td>2010</td>\n",
       "      <td>30</td>\n",
       "      <td>61</td>\n",
       "      <td>1.3</td>\n",
       "      <td>8.17</td>\n",
       "      <td>4.03</td>\n",
       "      <td>02</td>\n",
       "      <td>06</td>\n",
       "      <td>13</td>\n",
       "    </tr>\n",
       "    <tr>\n",
       "      <th>2</th>\n",
       "      <td>no</td>\n",
       "      <td>2009</td>\n",
       "      <td>26</td>\n",
       "      <td>83</td>\n",
       "      <td>13.1</td>\n",
       "      <td>8.08</td>\n",
       "      <td>3.59</td>\n",
       "      <td>03</td>\n",
       "      <td>06</td>\n",
       "      <td>22</td>\n",
       "    </tr>\n",
       "    <tr>\n",
       "      <th>3</th>\n",
       "      <td>no</td>\n",
       "      <td>2017</td>\n",
       "      <td>25</td>\n",
       "      <td>87</td>\n",
       "      <td>2.5</td>\n",
       "      <td>7.18</td>\n",
       "      <td>2.42</td>\n",
       "      <td>04</td>\n",
       "      <td>06</td>\n",
       "      <td>15</td>\n",
       "    </tr>\n",
       "    <tr>\n",
       "      <th>4</th>\n",
       "      <td>no</td>\n",
       "      <td>2014</td>\n",
       "      <td>28</td>\n",
       "      <td>77</td>\n",
       "      <td>0</td>\n",
       "      <td>14.98</td>\n",
       "      <td>4.63</td>\n",
       "      <td>05</td>\n",
       "      <td>06</td>\n",
       "      <td>18</td>\n",
       "    </tr>\n",
       "  </tbody>\n",
       "</table>\n",
       "</div>"
      ],
      "text/plain": [
       "  fire  year temp humidity rainfall drought_code buildup_index day month  \\\n",
       "0   no  2015   28       59        0         8.06          3.47  01    06   \n",
       "1   no  2010   30       61      1.3         8.17          4.03  02    06   \n",
       "2   no  2009   26       83     13.1         8.08          3.59  03    06   \n",
       "3   no  2017   25       87      2.5         7.18          2.42  04    06   \n",
       "4   no  2014   28       77        0        14.98          4.63  05    06   \n",
       "\n",
       "  wind_speed  \n",
       "0         19  \n",
       "1         13  \n",
       "2         22  \n",
       "3         15  \n",
       "4         18  "
      ]
     },
     "execution_count": 15,
     "metadata": {},
     "output_type": "execute_result"
    }
   ],
   "source": [
    "train_set.head(5)"
   ]
  },
  {
   "cell_type": "code",
   "execution_count": 16,
   "id": "b56df64d-7322-479b-8100-02a83c2d345d",
   "metadata": {},
   "outputs": [
    {
     "data": {
      "text/html": [
       "<div>\n",
       "<style scoped>\n",
       "    .dataframe tbody tr th:only-of-type {\n",
       "        vertical-align: middle;\n",
       "    }\n",
       "\n",
       "    .dataframe tbody tr th {\n",
       "        vertical-align: top;\n",
       "    }\n",
       "\n",
       "    .dataframe thead th {\n",
       "        text-align: right;\n",
       "    }\n",
       "</style>\n",
       "<table border=\"1\" class=\"dataframe\">\n",
       "  <thead>\n",
       "    <tr style=\"text-align: right;\">\n",
       "      <th></th>\n",
       "      <th>fire</th>\n",
       "      <th>year</th>\n",
       "      <th>temp</th>\n",
       "      <th>humidity</th>\n",
       "      <th>rainfall</th>\n",
       "      <th>drought_code</th>\n",
       "      <th>buildup_index</th>\n",
       "      <th>day</th>\n",
       "      <th>month</th>\n",
       "      <th>wind_speed</th>\n",
       "    </tr>\n",
       "  </thead>\n",
       "  <tbody>\n",
       "    <tr>\n",
       "      <th>0</th>\n",
       "      <td>no</td>\n",
       "      <td>2015</td>\n",
       "      <td>33</td>\n",
       "      <td>68</td>\n",
       "      <td>4.5</td>\n",
       "      <td>9.12</td>\n",
       "      <td>5.09</td>\n",
       "      <td>19</td>\n",
       "      <td>06</td>\n",
       "      <td>16</td>\n",
       "    </tr>\n",
       "    <tr>\n",
       "      <th>1</th>\n",
       "      <td>yes</td>\n",
       "      <td>2009</td>\n",
       "      <td>28</td>\n",
       "      <td>56</td>\n",
       "      <td>0</td>\n",
       "      <td>38.17</td>\n",
       "      <td>21.21</td>\n",
       "      <td>12</td>\n",
       "      <td>06</td>\n",
       "      <td>18</td>\n",
       "    </tr>\n",
       "    <tr>\n",
       "      <th>2</th>\n",
       "      <td>no</td>\n",
       "      <td>2017</td>\n",
       "      <td>30</td>\n",
       "      <td>64</td>\n",
       "      <td>0.6</td>\n",
       "      <td>15.38</td>\n",
       "      <td>6.24</td>\n",
       "      <td>24</td>\n",
       "      <td>09</td>\n",
       "      <td>19</td>\n",
       "    </tr>\n",
       "    <tr>\n",
       "      <th>3</th>\n",
       "      <td>no</td>\n",
       "      <td>2007</td>\n",
       "      <td>23</td>\n",
       "      <td>74</td>\n",
       "      <td>8.3</td>\n",
       "      <td>7.36</td>\n",
       "      <td>2.27</td>\n",
       "      <td>14</td>\n",
       "      <td>09</td>\n",
       "      <td>28</td>\n",
       "    </tr>\n",
       "    <tr>\n",
       "      <th>4</th>\n",
       "      <td>no</td>\n",
       "      <td>2017</td>\n",
       "      <td>31</td>\n",
       "      <td>72</td>\n",
       "      <td>0.3</td>\n",
       "      <td>30.47</td>\n",
       "      <td>5.63</td>\n",
       "      <td>07</td>\n",
       "      <td>09</td>\n",
       "      <td>17</td>\n",
       "    </tr>\n",
       "  </tbody>\n",
       "</table>\n",
       "</div>"
      ],
      "text/plain": [
       "  fire  year temp humidity rainfall drought_code buildup_index day month  \\\n",
       "0   no  2015   33       68      4.5         9.12          5.09  19    06   \n",
       "1  yes  2009   28       56        0        38.17         21.21  12    06   \n",
       "2   no  2017   30       64      0.6        15.38          6.24  24    09   \n",
       "3   no  2007   23       74      8.3         7.36          2.27  14    09   \n",
       "4   no  2017   31       72      0.3        30.47          5.63  07    09   \n",
       "\n",
       "  wind_speed  \n",
       "0         16  \n",
       "1         18  \n",
       "2         19  \n",
       "3         28  \n",
       "4         17  "
      ]
     },
     "execution_count": 16,
     "metadata": {},
     "output_type": "execute_result"
    }
   ],
   "source": [
    "test_set.head(5)"
   ]
  },
  {
   "cell_type": "code",
   "execution_count": 17,
   "id": "ad84ac17-cd00-48a3-a4b8-b618f2522fc9",
   "metadata": {},
   "outputs": [
    {
     "data": {
      "text/plain": [
       "'fire'"
      ]
     },
     "execution_count": 17,
     "metadata": {},
     "output_type": "execute_result"
    }
   ],
   "source": [
    "attributes.pop(0)     #dropping fire before applying float to the rest"
   ]
  },
  {
   "cell_type": "code",
   "execution_count": 18,
   "id": "3cbc08cf-5206-4e48-a8de-f1ccbf72c52a",
   "metadata": {},
   "outputs": [],
   "source": [
    "for i in attributes:\n",
    "    train_set[i] = train_set[i].apply(lambda x: float(x))"
   ]
  },
  {
   "cell_type": "code",
   "execution_count": 19,
   "id": "06287150-c059-475d-94e1-28e6c4c4fa50",
   "metadata": {},
   "outputs": [],
   "source": [
    "for i in attributes:\n",
    "    test_set[i] = train_set[i].apply(lambda x: float(x))"
   ]
  },
  {
   "cell_type": "code",
   "execution_count": 20,
   "id": "c5c06705-587e-4869-bd01-8ced5df4033e",
   "metadata": {},
   "outputs": [
    {
     "name": "stdout",
     "output_type": "stream",
     "text": [
      "<class 'pandas.core.frame.DataFrame'>\n",
      "RangeIndex: 50 entries, 0 to 49\n",
      "Data columns (total 10 columns):\n",
      " #   Column         Non-Null Count  Dtype  \n",
      "---  ------         --------------  -----  \n",
      " 0   fire           50 non-null     object \n",
      " 1   year           50 non-null     float64\n",
      " 2   temp           50 non-null     float64\n",
      " 3   humidity       50 non-null     float64\n",
      " 4   rainfall       50 non-null     float64\n",
      " 5   drought_code   50 non-null     float64\n",
      " 6   buildup_index  50 non-null     float64\n",
      " 7   day            50 non-null     float64\n",
      " 8   month          50 non-null     float64\n",
      " 9   wind_speed     50 non-null     float64\n",
      "dtypes: float64(9), object(1)\n",
      "memory usage: 4.0+ KB\n"
     ]
    }
   ],
   "source": [
    "test_set.info()"
   ]
  },
  {
   "cell_type": "code",
   "execution_count": 21,
   "id": "edb7b2c3-585d-479f-9711-7fd3871e4466",
   "metadata": {},
   "outputs": [
    {
     "name": "stdout",
     "output_type": "stream",
     "text": [
      "<class 'pandas.core.frame.DataFrame'>\n",
      "RangeIndex: 154 entries, 0 to 153\n",
      "Data columns (total 10 columns):\n",
      " #   Column         Non-Null Count  Dtype  \n",
      "---  ------         --------------  -----  \n",
      " 0   fire           154 non-null    object \n",
      " 1   year           154 non-null    float64\n",
      " 2   temp           154 non-null    float64\n",
      " 3   humidity       154 non-null    float64\n",
      " 4   rainfall       154 non-null    float64\n",
      " 5   drought_code   154 non-null    float64\n",
      " 6   buildup_index  154 non-null    float64\n",
      " 7   day            154 non-null    float64\n",
      " 8   month          154 non-null    float64\n",
      " 9   wind_speed     154 non-null    float64\n",
      "dtypes: float64(9), object(1)\n",
      "memory usage: 12.2+ KB\n"
     ]
    }
   ],
   "source": [
    "train_set.info()"
   ]
  },
  {
   "cell_type": "code",
   "execution_count": 22,
   "id": "50f6271c-71da-44e3-a43d-3f715d8760c1",
   "metadata": {},
   "outputs": [
    {
     "data": {
      "text/plain": [
       "fire             0\n",
       "year             0\n",
       "temp             0\n",
       "humidity         0\n",
       "rainfall         0\n",
       "drought_code     0\n",
       "buildup_index    0\n",
       "day              0\n",
       "month            0\n",
       "wind_speed       0\n",
       "dtype: int64"
      ]
     },
     "execution_count": 22,
     "metadata": {},
     "output_type": "execute_result"
    }
   ],
   "source": [
    "train_set.isnull().sum()"
   ]
  },
  {
   "cell_type": "code",
   "execution_count": 23,
   "id": "3c6778f2-7d5a-47a4-8e52-047e70a0485f",
   "metadata": {},
   "outputs": [
    {
     "data": {
      "text/html": [
       "<div>\n",
       "<style scoped>\n",
       "    .dataframe tbody tr th:only-of-type {\n",
       "        vertical-align: middle;\n",
       "    }\n",
       "\n",
       "    .dataframe tbody tr th {\n",
       "        vertical-align: top;\n",
       "    }\n",
       "\n",
       "    .dataframe thead th {\n",
       "        text-align: right;\n",
       "    }\n",
       "</style>\n",
       "<table border=\"1\" class=\"dataframe\">\n",
       "  <thead>\n",
       "    <tr style=\"text-align: right;\">\n",
       "      <th></th>\n",
       "      <th>year</th>\n",
       "      <th>temp</th>\n",
       "      <th>humidity</th>\n",
       "      <th>rainfall</th>\n",
       "      <th>drought_code</th>\n",
       "      <th>buildup_index</th>\n",
       "      <th>day</th>\n",
       "      <th>month</th>\n",
       "      <th>wind_speed</th>\n",
       "    </tr>\n",
       "  </thead>\n",
       "  <tbody>\n",
       "    <tr>\n",
       "      <th>count</th>\n",
       "      <td>154.000000</td>\n",
       "      <td>154.000000</td>\n",
       "      <td>154.000000</td>\n",
       "      <td>154.000000</td>\n",
       "      <td>154.000000</td>\n",
       "      <td>154.000000</td>\n",
       "      <td>154.000000</td>\n",
       "      <td>154.000000</td>\n",
       "      <td>154.000000</td>\n",
       "    </tr>\n",
       "    <tr>\n",
       "      <th>mean</th>\n",
       "      <td>2012.058442</td>\n",
       "      <td>31.545455</td>\n",
       "      <td>63.071429</td>\n",
       "      <td>0.855844</td>\n",
       "      <td>48.146299</td>\n",
       "      <td>16.285065</td>\n",
       "      <td>15.077922</td>\n",
       "      <td>7.603896</td>\n",
       "      <td>16.383117</td>\n",
       "    </tr>\n",
       "    <tr>\n",
       "      <th>std</th>\n",
       "      <td>3.355294</td>\n",
       "      <td>3.952481</td>\n",
       "      <td>16.038804</td>\n",
       "      <td>2.246798</td>\n",
       "      <td>47.348331</td>\n",
       "      <td>14.346991</td>\n",
       "      <td>8.085760</td>\n",
       "      <td>1.217620</td>\n",
       "      <td>3.218001</td>\n",
       "    </tr>\n",
       "    <tr>\n",
       "      <th>min</th>\n",
       "      <td>2007.000000</td>\n",
       "      <td>22.000000</td>\n",
       "      <td>21.000000</td>\n",
       "      <td>0.000000</td>\n",
       "      <td>7.180000</td>\n",
       "      <td>1.320000</td>\n",
       "      <td>1.000000</td>\n",
       "      <td>6.000000</td>\n",
       "      <td>6.000000</td>\n",
       "    </tr>\n",
       "    <tr>\n",
       "      <th>25%</th>\n",
       "      <td>2009.000000</td>\n",
       "      <td>29.000000</td>\n",
       "      <td>52.000000</td>\n",
       "      <td>0.000000</td>\n",
       "      <td>9.720000</td>\n",
       "      <td>5.797500</td>\n",
       "      <td>9.000000</td>\n",
       "      <td>6.000000</td>\n",
       "      <td>14.000000</td>\n",
       "    </tr>\n",
       "    <tr>\n",
       "      <th>50%</th>\n",
       "      <td>2012.000000</td>\n",
       "      <td>31.000000</td>\n",
       "      <td>64.000000</td>\n",
       "      <td>0.000000</td>\n",
       "      <td>31.330000</td>\n",
       "      <td>11.450000</td>\n",
       "      <td>15.000000</td>\n",
       "      <td>8.000000</td>\n",
       "      <td>16.000000</td>\n",
       "    </tr>\n",
       "    <tr>\n",
       "      <th>75%</th>\n",
       "      <td>2015.000000</td>\n",
       "      <td>34.000000</td>\n",
       "      <td>77.000000</td>\n",
       "      <td>0.600000</td>\n",
       "      <td>65.257500</td>\n",
       "      <td>22.775000</td>\n",
       "      <td>21.000000</td>\n",
       "      <td>9.000000</td>\n",
       "      <td>18.750000</td>\n",
       "    </tr>\n",
       "    <tr>\n",
       "      <th>max</th>\n",
       "      <td>2017.000000</td>\n",
       "      <td>43.000000</td>\n",
       "      <td>92.000000</td>\n",
       "      <td>16.800000</td>\n",
       "      <td>221.350000</td>\n",
       "      <td>67.720000</td>\n",
       "      <td>31.000000</td>\n",
       "      <td>9.000000</td>\n",
       "      <td>30.000000</td>\n",
       "    </tr>\n",
       "  </tbody>\n",
       "</table>\n",
       "</div>"
      ],
      "text/plain": [
       "              year        temp    humidity    rainfall  drought_code  \\\n",
       "count   154.000000  154.000000  154.000000  154.000000    154.000000   \n",
       "mean   2012.058442   31.545455   63.071429    0.855844     48.146299   \n",
       "std       3.355294    3.952481   16.038804    2.246798     47.348331   \n",
       "min    2007.000000   22.000000   21.000000    0.000000      7.180000   \n",
       "25%    2009.000000   29.000000   52.000000    0.000000      9.720000   \n",
       "50%    2012.000000   31.000000   64.000000    0.000000     31.330000   \n",
       "75%    2015.000000   34.000000   77.000000    0.600000     65.257500   \n",
       "max    2017.000000   43.000000   92.000000   16.800000    221.350000   \n",
       "\n",
       "       buildup_index         day       month  wind_speed  \n",
       "count     154.000000  154.000000  154.000000  154.000000  \n",
       "mean       16.285065   15.077922    7.603896   16.383117  \n",
       "std        14.346991    8.085760    1.217620    3.218001  \n",
       "min         1.320000    1.000000    6.000000    6.000000  \n",
       "25%         5.797500    9.000000    6.000000   14.000000  \n",
       "50%        11.450000   15.000000    8.000000   16.000000  \n",
       "75%        22.775000   21.000000    9.000000   18.750000  \n",
       "max        67.720000   31.000000    9.000000   30.000000  "
      ]
     },
     "execution_count": 23,
     "metadata": {},
     "output_type": "execute_result"
    }
   ],
   "source": [
    "train_set.describe()"
   ]
  },
  {
   "cell_type": "code",
   "execution_count": 24,
   "id": "08ab23ad-0022-420e-a8a4-bc3bba439db7",
   "metadata": {},
   "outputs": [
    {
     "data": {
      "text/plain": [
       "(154, 10)"
      ]
     },
     "execution_count": 24,
     "metadata": {},
     "output_type": "execute_result"
    }
   ],
   "source": [
    "train_set.shape"
   ]
  },
  {
   "cell_type": "code",
   "execution_count": 25,
   "id": "37331c1d-3cf1-4cb0-923b-8c9b753e77c5",
   "metadata": {},
   "outputs": [
    {
     "data": {
      "text/plain": [
       "<AxesSubplot:xlabel='fire', ylabel='count'>"
      ]
     },
     "execution_count": 25,
     "metadata": {},
     "output_type": "execute_result"
    },
    {
     "data": {
      "image/png": "[encoded data removed]",
      "text/plain": [
       "<Figure size 360x360 with 1 Axes>"
      ]
     },
     "metadata": {},
     "output_type": "display_data"
    }
   ],
   "source": [
    "sns.set_theme(style=\"darkgrid\")\n",
    "plt.figure(figsize=(5,5))\n",
    "sns.countplot(train_set['fire'])"
   ]
  },
  {
   "cell_type": "markdown",
   "id": "6b50bd31-3b5e-443d-85ea-227343308c88",
   "metadata": {},
   "source": [
    "Since the 'Yes' and 'No' are almost evenly distributed, the data is fairly consistant and we can expect a good result"
   ]
  },
  {
   "cell_type": "code",
   "execution_count": 26,
   "id": "02ba14b8-5506-475c-b26e-03e49048e6ec",
   "metadata": {},
   "outputs": [
    {
     "data": {
      "text/html": [
       "<div>\n",
       "<style scoped>\n",
       "    .dataframe tbody tr th:only-of-type {\n",
       "        vertical-align: middle;\n",
       "    }\n",
       "\n",
       "    .dataframe tbody tr th {\n",
       "        vertical-align: top;\n",
       "    }\n",
       "\n",
       "    .dataframe thead th {\n",
       "        text-align: right;\n",
       "    }\n",
       "</style>\n",
       "<table border=\"1\" class=\"dataframe\">\n",
       "  <thead>\n",
       "    <tr style=\"text-align: right;\">\n",
       "      <th></th>\n",
       "      <th>year</th>\n",
       "      <th>temp</th>\n",
       "      <th>humidity</th>\n",
       "      <th>rainfall</th>\n",
       "      <th>drought_code</th>\n",
       "      <th>buildup_index</th>\n",
       "      <th>day</th>\n",
       "      <th>month</th>\n",
       "      <th>wind_speed</th>\n",
       "    </tr>\n",
       "  </thead>\n",
       "  <tbody>\n",
       "    <tr>\n",
       "      <th>year</th>\n",
       "      <td>1.000000</td>\n",
       "      <td>-0.044804</td>\n",
       "      <td>0.066235</td>\n",
       "      <td>0.060774</td>\n",
       "      <td>-0.091232</td>\n",
       "      <td>-0.093823</td>\n",
       "      <td>-0.122311</td>\n",
       "      <td>-0.031092</td>\n",
       "      <td>-0.005719</td>\n",
       "    </tr>\n",
       "    <tr>\n",
       "      <th>temp</th>\n",
       "      <td>-0.044804</td>\n",
       "      <td>1.000000</td>\n",
       "      <td>-0.653254</td>\n",
       "      <td>-0.372333</td>\n",
       "      <td>0.478858</td>\n",
       "      <td>0.537869</td>\n",
       "      <td>0.007046</td>\n",
       "      <td>0.058768</td>\n",
       "      <td>-0.208724</td>\n",
       "    </tr>\n",
       "    <tr>\n",
       "      <th>humidity</th>\n",
       "      <td>0.066235</td>\n",
       "      <td>-0.653254</td>\n",
       "      <td>1.000000</td>\n",
       "      <td>0.301330</td>\n",
       "      <td>-0.312201</td>\n",
       "      <td>-0.424672</td>\n",
       "      <td>-0.065914</td>\n",
       "      <td>-0.178932</td>\n",
       "      <td>0.286926</td>\n",
       "    </tr>\n",
       "    <tr>\n",
       "      <th>rainfall</th>\n",
       "      <td>0.060774</td>\n",
       "      <td>-0.372333</td>\n",
       "      <td>0.301330</td>\n",
       "      <td>1.000000</td>\n",
       "      <td>-0.292643</td>\n",
       "      <td>-0.288991</td>\n",
       "      <td>-0.074749</td>\n",
       "      <td>-0.002612</td>\n",
       "      <td>0.181072</td>\n",
       "    </tr>\n",
       "    <tr>\n",
       "      <th>drought_code</th>\n",
       "      <td>-0.091232</td>\n",
       "      <td>0.478858</td>\n",
       "      <td>-0.312201</td>\n",
       "      <td>-0.292643</td>\n",
       "      <td>1.000000</td>\n",
       "      <td>0.965923</td>\n",
       "      <td>0.474956</td>\n",
       "      <td>0.179278</td>\n",
       "      <td>0.065548</td>\n",
       "    </tr>\n",
       "    <tr>\n",
       "      <th>buildup_index</th>\n",
       "      <td>-0.093823</td>\n",
       "      <td>0.537869</td>\n",
       "      <td>-0.424672</td>\n",
       "      <td>-0.288991</td>\n",
       "      <td>0.965923</td>\n",
       "      <td>1.000000</td>\n",
       "      <td>0.450965</td>\n",
       "      <td>0.188122</td>\n",
       "      <td>0.014856</td>\n",
       "    </tr>\n",
       "    <tr>\n",
       "      <th>day</th>\n",
       "      <td>-0.122311</td>\n",
       "      <td>0.007046</td>\n",
       "      <td>-0.065914</td>\n",
       "      <td>-0.074749</td>\n",
       "      <td>0.474956</td>\n",
       "      <td>0.450965</td>\n",
       "      <td>1.000000</td>\n",
       "      <td>0.264052</td>\n",
       "      <td>0.037277</td>\n",
       "    </tr>\n",
       "    <tr>\n",
       "      <th>month</th>\n",
       "      <td>-0.031092</td>\n",
       "      <td>0.058768</td>\n",
       "      <td>-0.178932</td>\n",
       "      <td>-0.002612</td>\n",
       "      <td>0.179278</td>\n",
       "      <td>0.188122</td>\n",
       "      <td>0.264052</td>\n",
       "      <td>1.000000</td>\n",
       "      <td>-0.062769</td>\n",
       "    </tr>\n",
       "    <tr>\n",
       "      <th>wind_speed</th>\n",
       "      <td>-0.005719</td>\n",
       "      <td>-0.208724</td>\n",
       "      <td>0.286926</td>\n",
       "      <td>0.181072</td>\n",
       "      <td>0.065548</td>\n",
       "      <td>0.014856</td>\n",
       "      <td>0.037277</td>\n",
       "      <td>-0.062769</td>\n",
       "      <td>1.000000</td>\n",
       "    </tr>\n",
       "  </tbody>\n",
       "</table>\n",
       "</div>"
      ],
      "text/plain": [
       "                   year      temp  humidity  rainfall  drought_code  \\\n",
       "year           1.000000 -0.044804  0.066235  0.060774     -0.091232   \n",
       "temp          -0.044804  1.000000 -0.653254 -0.372333      0.478858   \n",
       "humidity       0.066235 -0.653254  1.000000  0.301330     -0.312201   \n",
       "rainfall       0.060774 -0.372333  0.301330  1.000000     -0.292643   \n",
       "drought_code  -0.091232  0.478858 -0.312201 -0.292643      1.000000   \n",
       "buildup_index -0.093823  0.537869 -0.424672 -0.288991      0.965923   \n",
       "day           -0.122311  0.007046 -0.065914 -0.074749      0.474956   \n",
       "month         -0.031092  0.058768 -0.178932 -0.002612      0.179278   \n",
       "wind_speed    -0.005719 -0.208724  0.286926  0.181072      0.065548   \n",
       "\n",
       "               buildup_index       day     month  wind_speed  \n",
       "year               -0.093823 -0.122311 -0.031092   -0.005719  \n",
       "temp                0.537869  0.007046  0.058768   -0.208724  \n",
       "humidity           -0.424672 -0.065914 -0.178932    0.286926  \n",
       "rainfall           -0.288991 -0.074749 -0.002612    0.181072  \n",
       "drought_code        0.965923  0.474956  0.179278    0.065548  \n",
       "buildup_index       1.000000  0.450965  0.188122    0.014856  \n",
       "day                 0.450965  1.000000  0.264052    0.037277  \n",
       "month               0.188122  0.264052  1.000000   -0.062769  \n",
       "wind_speed          0.014856  0.037277 -0.062769    1.000000  "
      ]
     },
     "execution_count": 26,
     "metadata": {},
     "output_type": "execute_result"
    }
   ],
   "source": [
    "train_set.corr()"
   ]
  },
  {
   "cell_type": "code",
   "execution_count": 27,
   "id": "ac69b36d-ca01-49b4-8c65-42fc52255534",
   "metadata": {},
   "outputs": [
    {
     "data": {
      "text/plain": [
       "<AxesSubplot:>"
      ]
     },
     "execution_count": 27,
     "metadata": {},
     "output_type": "execute_result"
    },
    {
     "data": {
      "image/png": "[encoded data removed]",
      "text/plain": [
       "<Figure size 432x288 with 2 Axes>"
      ]
     },
     "metadata": {},
     "output_type": "display_data"
    }
   ],
   "source": [
    "sns.heatmap(train_set.corr(), cmap='coolwarm')"
   ]
  },
  {
   "cell_type": "markdown",
   "id": "ceede28c-8a7e-4cc4-afb0-a32c9ed0e086",
   "metadata": {},
   "source": [
    "We have established that all the features are not corelated to a degree that there will be redundancy in the data. Hence, no cleanup is required."
   ]
  },
  {
   "cell_type": "code",
   "execution_count": 28,
   "id": "62752cb2-403b-4ed4-b3dd-9f8a240fecd1",
   "metadata": {},
   "outputs": [],
   "source": [
    "X = train_set.drop('fire', axis=1)\n",
    "y = train_set['fire']"
   ]
  },
  {
   "cell_type": "markdown",
   "id": "501db977-43aa-4713-aef8-c698c68d2877",
   "metadata": {},
   "source": [
    "# ID3 Classification"
   ]
  },
  {
   "cell_type": "code",
   "execution_count": 29,
   "id": "3600f06b-3896-49e3-bcba-ab7bdf8ed52d",
   "metadata": {},
   "outputs": [],
   "source": [
    "from sklearn.tree import DecisionTreeClassifier"
   ]
  },
  {
   "cell_type": "code",
   "execution_count": 30,
   "id": "3f4e1988-1eb9-4f90-a970-88118bbd2b3c",
   "metadata": {},
   "outputs": [
    {
     "data": {
      "text/plain": [
       "DecisionTreeClassifier()"
      ]
     },
     "execution_count": 30,
     "metadata": {},
     "output_type": "execute_result"
    }
   ],
   "source": [
    "dt = DecisionTreeClassifier()\n",
    "dt.fit(X, y)"
   ]
  },
  {
   "cell_type": "code",
   "execution_count": 31,
   "id": "51bf4781-2534-4445-b863-e13da9b7583a",
   "metadata": {},
   "outputs": [
    {
     "data": {
      "text/plain": [
       "array(['no', 'no', 'no', 'no', 'no', 'yes', 'yes'], dtype=object)"
      ]
     },
     "execution_count": 31,
     "metadata": {},
     "output_type": "execute_result"
    }
   ],
   "source": [
    "dt.predict(test_set.iloc[:7, 1:])"
   ]
  },
  {
   "cell_type": "code",
   "execution_count": 32,
   "id": "45489e30-bb9d-4b07-83ff-f3b60d7f57e2",
   "metadata": {},
   "outputs": [],
   "source": [
    "from sklearn import tree\n",
    "import matplotlib.pyplot as plt"
   ]
  },
  {
   "cell_type": "code",
   "execution_count": 33,
   "id": "7a66a340-849f-4d2a-b234-2f64c1891ac9",
   "metadata": {},
   "outputs": [
    {
     "data": {
      "image/png": "[encoded data removed]",
      "text/plain": [
       "<Figure size 936x576 with 1 Axes>"
      ]
     },
     "metadata": {},
     "output_type": "display_data"
    }
   ],
   "source": [
    "plt.figure(figsize=(13,8))  \n",
    "a = tree.plot_tree(dt,fontsize=12)"
   ]
  },
  {
   "cell_type": "code",
   "execution_count": 34,
   "id": "392ef8cc-cfa5-427b-8d6a-53a80fe1a52d",
   "metadata": {},
   "outputs": [],
   "source": [
    "from sklearn.metrics import accuracy_score\n"
   ]
  },
  {
   "cell_type": "code",
   "execution_count": 35,
   "id": "c76923ad-d7cc-4c41-9577-842e04031def",
   "metadata": {},
   "outputs": [],
   "source": [
    "X_test = test_set.drop('fire', axis=1)\n",
    "y_test = test_set['fire']"
   ]
  },
  {
   "cell_type": "code",
   "execution_count": 36,
   "id": "b3bb7ecc-ba98-479e-a16d-deac3e7df811",
   "metadata": {},
   "outputs": [],
   "source": [
    "dt_predicted = dt.predict(X_test)\n",
    "dt_predicted_train=dt.predict(X)"
   ]
  },
  {
   "cell_type": "markdown",
   "id": "4cc56b70-7080-4de9-9b12-fc0dceb137ff",
   "metadata": {},
   "source": [
    "# Accuracy, F1 score and confusion metrix plotted for the test and training set of the Decision Tree"
   ]
  },
  {
   "cell_type": "code",
   "execution_count": 37,
   "id": "1c9fb8b3-9b0a-40f2-a380-c5b77553e7e0",
   "metadata": {},
   "outputs": [
    {
     "data": {
      "text/plain": [
       "0.62"
      ]
     },
     "execution_count": 37,
     "metadata": {},
     "output_type": "execute_result"
    }
   ],
   "source": [
    "\n",
    "accuracy_score(y_test,dt_predicted)"
   ]
  },
  {
   "cell_type": "code",
   "execution_count": 38,
   "id": "56680013-af12-4c2a-ba82-51e85417367a",
   "metadata": {},
   "outputs": [
    {
     "data": {
      "text/plain": [
       "1.0"
      ]
     },
     "execution_count": 38,
     "metadata": {},
     "output_type": "execute_result"
    }
   ],
   "source": [
    "accuracy_score(y,dt_predicted_train)"
   ]
  },
  {
   "cell_type": "code",
   "execution_count": 39,
   "id": "2cf43b25-1d81-4e2c-8053-d94431dece8d",
   "metadata": {},
   "outputs": [],
   "source": [
    "from sklearn.metrics import f1_score\n"
   ]
  },
  {
   "cell_type": "code",
   "execution_count": 40,
   "id": "6606cd65-73ba-45b4-be3d-8d1be211694e",
   "metadata": {},
   "outputs": [
    {
     "data": {
      "text/plain": [
       "0.6198479391756703"
      ]
     },
     "execution_count": 40,
     "metadata": {},
     "output_type": "execute_result"
    }
   ],
   "source": [
    "f1_score(y_test,dt_predicted,average='macro')"
   ]
  },
  {
   "cell_type": "code",
   "execution_count": 41,
   "id": "e2fcfd8e-4ecc-4cfb-9fc0-43657376c736",
   "metadata": {},
   "outputs": [
    {
     "data": {
      "text/plain": [
       "1.0"
      ]
     },
     "execution_count": 41,
     "metadata": {},
     "output_type": "execute_result"
    }
   ],
   "source": [
    "f1_score(y,dt_predicted_train,average='macro')"
   ]
  },
  {
   "cell_type": "code",
   "execution_count": 42,
   "id": "244551bd-cc0d-4d0a-9757-20b5eef37a04",
   "metadata": {},
   "outputs": [
    {
     "data": {
      "text/plain": [
       "array([[16,  6],\n",
       "       [13, 15]], dtype=int64)"
      ]
     },
     "execution_count": 42,
     "metadata": {},
     "output_type": "execute_result"
    }
   ],
   "source": [
    "from sklearn.metrics import confusion_matrix\n",
    "confusion_matrix(y_test, dt_predicted)"
   ]
  },
  {
   "cell_type": "code",
   "execution_count": 43,
   "id": "fd791f8d-e66a-4959-a15b-41c96c094ff1",
   "metadata": {},
   "outputs": [
    {
     "data": {
      "image/png": "[encoded data removed]",
      "text/plain": [
       "<Figure size 432x288 with 2 Axes>"
      ]
     },
     "metadata": {},
     "output_type": "display_data"
    }
   ],
   "source": [
    "from sklearn.metrics import plot_confusion_matrix\n",
    "import matplotlib.pyplot as plt\n",
    "plot_confusion_matrix(dt, X_test, y_test)\n",
    "plt.show()"
   ]
  },
  {
   "cell_type": "code",
   "execution_count": 44,
   "id": "7a5a06e0-3afb-41ee-8f45-67e4b7382d9e",
   "metadata": {},
   "outputs": [
    {
     "data": {
      "text/plain": [
       "array([[75,  0],\n",
       "       [ 0, 79]], dtype=int64)"
      ]
     },
     "execution_count": 44,
     "metadata": {},
     "output_type": "execute_result"
    }
   ],
   "source": [
    "from sklearn.metrics import confusion_matrix\n",
    "confusion_matrix(y,dt_predicted_train)"
   ]
  },
  {
   "cell_type": "code",
   "execution_count": 45,
   "id": "1289af75-de78-4456-b0f1-369bd0b7950f",
   "metadata": {},
   "outputs": [
    {
     "data": {
      "image/png": "[encoded data removed]",
      "text/plain": [
       "<Figure size 432x288 with 2 Axes>"
      ]
     },
     "metadata": {},
     "output_type": "display_data"
    }
   ],
   "source": [
    "\n",
    "from sklearn.metrics import plot_confusion_matrix\n",
    "import matplotlib.pyplot as plt\n",
    "plot_confusion_matrix(dt, X, y)\n",
    "plt.show()"
   ]
  },
  {
   "cell_type": "markdown",
   "id": "93c1bf16-4a4d-4602-a152-8ee656cec36e",
   "metadata": {},
   "source": [
    "# Classification 2 Logistic Regression"
   ]
  },
  {
   "cell_type": "code",
   "execution_count": 46,
   "id": "641c1872-d1e4-4a78-b2fb-d64811238c3c",
   "metadata": {},
   "outputs": [],
   "source": [
    "from sklearn.linear_model import LogisticRegression"
   ]
  },
  {
   "cell_type": "code",
   "execution_count": 47,
   "id": "308785cd-10bf-497e-b0b6-ef9a24eefc29",
   "metadata": {},
   "outputs": [],
   "source": [
    "lr =LogisticRegression()"
   ]
  },
  {
   "cell_type": "code",
   "execution_count": 48,
   "id": "05fda6ef-8e43-4ded-9f91-8ba1d4957d52",
   "metadata": {},
   "outputs": [
    {
     "data": {
      "text/plain": [
       "LogisticRegression()"
      ]
     },
     "execution_count": 48,
     "metadata": {},
     "output_type": "execute_result"
    }
   ],
   "source": [
    "lr.fit(X,y)"
   ]
  },
  {
   "cell_type": "code",
   "execution_count": 49,
   "id": "dfdc5c8f-afca-44e5-9d5f-6edc26165776",
   "metadata": {},
   "outputs": [],
   "source": [
    "lr_predicted = lr.predict(X_test)\n",
    "lr_predicted_train = lr.predict(X)\n"
   ]
  },
  {
   "cell_type": "code",
   "execution_count": 50,
   "id": "1af0c1b7-912c-43b9-ab1c-a265a71a6e98",
   "metadata": {},
   "outputs": [
    {
     "data": {
      "text/plain": [
       "array(['no', 'no', 'no', 'no', 'no', 'no', 'yes', 'yes', 'no', 'no',\n",
       "       'yes', 'yes', 'no', 'no', 'no', 'no', 'no', 'no', 'no', 'no', 'no',\n",
       "       'no', 'no', 'no', 'no', 'yes', 'yes', 'yes', 'yes', 'no', 'no',\n",
       "       'no', 'no', 'yes', 'yes', 'yes', 'yes', 'no', 'no', 'yes', 'no',\n",
       "       'no', 'no', 'no', 'yes', 'yes', 'yes', 'yes', 'yes', 'yes'],\n",
       "      dtype=object)"
      ]
     },
     "execution_count": 50,
     "metadata": {},
     "output_type": "execute_result"
    }
   ],
   "source": [
    "lr_predicted"
   ]
  },
  {
   "cell_type": "code",
   "execution_count": 51,
   "id": "f7327506-c3e9-47c0-bafe-789e19487f81",
   "metadata": {},
   "outputs": [
    {
     "data": {
      "text/plain": [
       "0.58"
      ]
     },
     "execution_count": 51,
     "metadata": {},
     "output_type": "execute_result"
    }
   ],
   "source": [
    "accuracy_score(lr_predicted, y_test)"
   ]
  },
  {
   "cell_type": "code",
   "execution_count": 52,
   "id": "0093f7a7-98e7-4879-aa5d-e89679fd29d2",
   "metadata": {},
   "outputs": [
    {
     "data": {
      "text/plain": [
       "0.5784825371336813"
      ]
     },
     "execution_count": 52,
     "metadata": {},
     "output_type": "execute_result"
    }
   ],
   "source": [
    "f1_score(y_test,lr_predicted,average='macro')"
   ]
  },
  {
   "cell_type": "code",
   "execution_count": 53,
   "id": "b6dbb78f-da61-4965-a247-fd7eed509c55",
   "metadata": {},
   "outputs": [
    {
     "data": {
      "text/plain": [
       "0.8895684818829881"
      ]
     },
     "execution_count": 53,
     "metadata": {},
     "output_type": "execute_result"
    }
   ],
   "source": [
    "f1_score(y,lr_predicted_train,average='macro')"
   ]
  },
  {
   "cell_type": "code",
   "execution_count": 54,
   "id": "2effdf24-aeda-4a6d-9a69-46d13c21b7ea",
   "metadata": {},
   "outputs": [
    {
     "data": {
      "text/plain": [
       "array([[16,  6],\n",
       "       [15, 13]], dtype=int64)"
      ]
     },
     "execution_count": 54,
     "metadata": {},
     "output_type": "execute_result"
    }
   ],
   "source": [
    "confusion_matrix(y_test, lr_predicted)"
   ]
  },
  {
   "cell_type": "code",
   "execution_count": 55,
   "id": "8f98d57d-ade6-4c01-997e-e005719719f6",
   "metadata": {},
   "outputs": [
    {
     "data": {
      "text/plain": [
       "0.58"
      ]
     },
     "execution_count": 55,
     "metadata": {},
     "output_type": "execute_result"
    }
   ],
   "source": [
    "accuracy_score(y_test,lr_predicted)"
   ]
  },
  {
   "cell_type": "code",
   "execution_count": 56,
   "id": "401ea5ef-220a-4431-a8a1-256fb82c8ad7",
   "metadata": {},
   "outputs": [
    {
     "data": {
      "text/plain": [
       "0.8896103896103896"
      ]
     },
     "execution_count": 56,
     "metadata": {},
     "output_type": "execute_result"
    }
   ],
   "source": [
    "accuracy_score(y,lr_predicted_train)"
   ]
  },
  {
   "cell_type": "code",
   "execution_count": 57,
   "id": "cf8dc3af-eba9-4571-8b8b-2ab9151b9531",
   "metadata": {},
   "outputs": [
    {
     "data": {
      "image/png": "[encoded data removed]",
      "text/plain": [
       "<Figure size 432x288 with 2 Axes>"
      ]
     },
     "metadata": {},
     "output_type": "display_data"
    }
   ],
   "source": [
    "from sklearn.metrics import plot_confusion_matrix\n",
    "import matplotlib.pyplot as plt\n",
    "plot_confusion_matrix(lr, X_test, y_test)\n",
    "plt.show()"
   ]
  },
  {
   "cell_type": "code",
   "execution_count": 58,
   "id": "c9fe1847-658d-44b7-b07e-6dbb11e3ce04",
   "metadata": {},
   "outputs": [
    {
     "data": {
      "image/png": "[encoded data removed]",
      "text/plain": [
       "<Figure size 432x288 with 2 Axes>"
      ]
     },
     "metadata": {},
     "output_type": "display_data"
    }
   ],
   "source": [
    "plot_confusion_matrix(lr, X, y)\n",
    "plt.show()"
   ]
  },
  {
   "cell_type": "markdown",
   "id": "6dc02b3c-d63d-480f-b180-7f4167078a13",
   "metadata": {},
   "source": [
    "# General Analysis"
   ]
  },
  {
   "cell_type": "markdown",
   "id": "943325f8-0691-47a8-a5d7-d3edb660f815",
   "metadata": {},
   "source": [
    "Analysing the linear separability of various features of test and training set. We can see from the decision tree model above that drought_code and rainfall has the most information gain. So we'll check if those features are lineraly separable."
   ]
  },
  {
   "cell_type": "code",
   "execution_count": 59,
   "id": "9649deef-fa45-4a95-8bc7-9e31e716ef7f",
   "metadata": {},
   "outputs": [
    {
     "data": {
      "text/plain": [
       "<AxesSubplot:ylabel='rainfall'>"
      ]
     },
     "execution_count": 59,
     "metadata": {},
     "output_type": "execute_result"
    },
    {
     "data": {
      "image/png": "[encoded data removed]",
      "text/plain": [
       "<Figure size 432x288 with 1 Axes>"
      ]
     },
     "metadata": {},
     "output_type": "display_data"
    }
   ],
   "source": [
    "sns.scatterplot(list(range(154)),\n",
    "train_set['rainfall'], hue=train_set['fire'])"
   ]
  },
  {
   "cell_type": "code",
   "execution_count": 60,
   "id": "562b8b49-ba17-4998-8492-c6286342821d",
   "metadata": {},
   "outputs": [
    {
     "data": {
      "text/plain": [
       "<AxesSubplot:ylabel='rainfall'>"
      ]
     },
     "execution_count": 60,
     "metadata": {},
     "output_type": "execute_result"
    },
    {
     "data": {
      "image/png": "[encoded data removed]",
      "text/plain": [
       "<Figure size 432x288 with 1 Axes>"
      ]
     },
     "metadata": {},
     "output_type": "display_data"
    }
   ],
   "source": [
    "sns.scatterplot(list(range(50)),\n",
    "test_set['rainfall'], hue=test_set['fire'])   "
   ]
  },
  {
   "cell_type": "code",
   "execution_count": 61,
   "id": "1210e903-5964-48d1-9305-7110560e6dc4",
   "metadata": {},
   "outputs": [
    {
     "data": {
      "text/plain": [
       "<AxesSubplot:ylabel='rainfall'>"
      ]
     },
     "execution_count": 61,
     "metadata": {},
     "output_type": "execute_result"
    },
    {
     "data": {
      "image/png": "[encoded data removed]",
      "text/plain": [
       "<Figure size 432x288 with 1 Axes>"
      ]
     },
     "metadata": {},
     "output_type": "display_data"
    }
   ],
   "source": [
    "sns.scatterplot(list(range(len(train_set))),\n",
    "train_set['rainfall'], hue=train_set['fire'])"
   ]
  },
  {
   "cell_type": "code",
   "execution_count": 62,
   "id": "1780265a-7e9c-438a-bf2c-f6404966d24e",
   "metadata": {},
   "outputs": [
    {
     "data": {
      "text/plain": [
       "<AxesSubplot:ylabel='rainfall'>"
      ]
     },
     "execution_count": 62,
     "metadata": {},
     "output_type": "execute_result"
    },
    {
     "data": {
      "image/png": "[encoded data removed]",
      "text/plain": [
       "<Figure size 432x288 with 1 Axes>"
      ]
     },
     "metadata": {},
     "output_type": "display_data"
    }
   ],
   "source": [
    "sns.scatterplot(list(range(len(test_set))),\n",
    "test_set['rainfall'], hue=test_set['fire'])"
   ]
  },
  {
   "cell_type": "markdown",
   "id": "95a62e3a-9838-48e0-8b9d-83c7be73f536",
   "metadata": {},
   "source": [
    "As we can see, a line can be drawn to seperate it to some extend and with the addition of the rest of the features, the linear seperability will increase and hence we are able to get an accuracy of about 90% on the test data."
   ]
  },
  {
   "cell_type": "code",
   "execution_count": null,
   "id": "703458e1-8307-4de1-bdee-9a76d7de78b1",
   "metadata": {},
   "outputs": [],
   "source": []
  }
 ],
 "metadata": {
  "kernelspec": {
   "display_name": "Python 3",
   "language": "python",
   "name": "python3"
  },
  "language_info": {
   "codemirror_mode": {
    "name": "ipython",
    "version": 3
   },
   "file_extension": ".py",
   "mimetype": "text/x-python",
   "name": "python",
   "nbconvert_exporter": "python",
   "pygments_lexer": "ipython3",
   "version": "3.8.8"
  }
 },
 "nbformat": 4,
 "nbformat_minor": 5
}
